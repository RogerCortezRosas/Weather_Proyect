{
 "cells": [
  {
   "cell_type": "code",
   "execution_count": 74,
   "id": "d1ebe91e",
   "metadata": {},
   "outputs": [],
   "source": [
    "import pandas as pd\n",
    "import numpy as np\n",
    "import plotly.express as px\n",
    "from sqlalchemy import create_engine\n",
    "import matplotlib.pyplot as plt\n",
    "import plotly.graph_objects as go\n",
    "from plotly.subplots import make_subplots"
   ]
  },
  {
   "cell_type": "markdown",
   "id": "6649c6d5",
   "metadata": {},
   "source": [
    "## Conexion a la BD"
   ]
  },
  {
   "cell_type": "code",
   "execution_count": 10,
   "id": "833e7719",
   "metadata": {},
   "outputs": [],
   "source": [
    "def dataBase_connection():\n",
    "    \"\"\"This function connects with the data Warehouse and return a diccionary with the dataframes\"\"\"\n",
    "\n",
    "    host = '127.0.0.1'  # Cambia esto por el endpoint de tu RDS\n",
    "    port = 3307\n",
    "    user = 'airflow'  # Cambia esto por tu usuario\n",
    "    password = 'airflow'  # Cambia esto por tu contraseña\n",
    "    database = 'airflow'  # Cambia esto por tu base de datos\n",
    "    engine = None\n",
    "\n",
    "    \n",
    "    engine = create_engine(f'mysql+pymysql://{user}:{password}@{host}:{port}/{database}')\n",
    "    \n",
    "\n",
    "    # Create a list of the tables in the database\n",
    "    tables =['temperature_WH','humidity_WH','wind_speed_WH','pressure_WH','weather_description_WH','wind_direction_WH']\n",
    "   \n",
    "    dataframes = {}\n",
    "    # Loop through the tables and read them into pandas dataframes\n",
    "    for table in tables:\n",
    "        df = pd.read_sql_table(table, engine)\n",
    "        dataframes[table] = df\n",
    "\n",
    "    # Close the connection\n",
    "    engine.dispose()\n",
    "    return dataframes"
   ]
  },
  {
   "cell_type": "code",
   "execution_count": null,
   "id": "d96495d1",
   "metadata": {},
   "outputs": [],
   "source": [
    "#Get the dataframes from the database\n",
    "dataframes = dataBase_connection()"
   ]
  },
  {
   "cell_type": "code",
   "execution_count": null,
   "id": "26fc256e",
   "metadata": {},
   "outputs": [
    {
     "data": {
      "text/plain": [
       "dict_keys(['temperature_WH', 'humidity_WH', 'wind_speed_WH', 'pressure_WH', 'weather_description_WH', 'wind_direction_WH'])"
      ]
     },
     "execution_count": 13,
     "metadata": {},
     "output_type": "execute_result"
    }
   ],
   "source": [
    "#List of the names of the tables in the database\n",
    "dataframes.keys()"
   ]
  },
  {
   "cell_type": "code",
   "execution_count": 15,
   "id": "247e987c",
   "metadata": {},
   "outputs": [
    {
     "data": {
      "text/html": [
       "<div>\n",
       "<style scoped>\n",
       "    .dataframe tbody tr th:only-of-type {\n",
       "        vertical-align: middle;\n",
       "    }\n",
       "\n",
       "    .dataframe tbody tr th {\n",
       "        vertical-align: top;\n",
       "    }\n",
       "\n",
       "    .dataframe thead th {\n",
       "        text-align: right;\n",
       "    }\n",
       "</style>\n",
       "<table border=\"1\" class=\"dataframe\">\n",
       "  <thead>\n",
       "    <tr style=\"text-align: right;\">\n",
       "      <th></th>\n",
       "      <th>datetime</th>\n",
       "      <th>Vancouver</th>\n",
       "      <th>Portland</th>\n",
       "      <th>San Francisco</th>\n",
       "      <th>Seattle</th>\n",
       "      <th>Los Angeles</th>\n",
       "      <th>San Diego</th>\n",
       "      <th>Las Vegas</th>\n",
       "      <th>Phoenix</th>\n",
       "      <th>Albuquerque</th>\n",
       "      <th>...</th>\n",
       "      <th>New York</th>\n",
       "      <th>Montreal</th>\n",
       "      <th>Boston</th>\n",
       "      <th>Beersheba</th>\n",
       "      <th>Tel Aviv District</th>\n",
       "      <th>Eilat</th>\n",
       "      <th>Haifa</th>\n",
       "      <th>Nahariyya</th>\n",
       "      <th>Jerusalem</th>\n",
       "      <th>id</th>\n",
       "    </tr>\n",
       "  </thead>\n",
       "  <tbody>\n",
       "    <tr>\n",
       "      <th>0</th>\n",
       "      <td>2012-10-01 12:00:00</td>\n",
       "      <td>0.000000</td>\n",
       "      <td>0.000000</td>\n",
       "      <td>0.000000</td>\n",
       "      <td>0.000000</td>\n",
       "      <td>0.000000</td>\n",
       "      <td>0.000000</td>\n",
       "      <td>0.000000</td>\n",
       "      <td>0.000000</td>\n",
       "      <td>0.000000</td>\n",
       "      <td>...</td>\n",
       "      <td>0.000000</td>\n",
       "      <td>0.000000</td>\n",
       "      <td>0.000000</td>\n",
       "      <td>0.000000</td>\n",
       "      <td>0.000000</td>\n",
       "      <td>309.100000</td>\n",
       "      <td>0.00</td>\n",
       "      <td>0.00</td>\n",
       "      <td>0.00</td>\n",
       "      <td>1</td>\n",
       "    </tr>\n",
       "    <tr>\n",
       "      <th>1</th>\n",
       "      <td>2012-10-01 13:00:00</td>\n",
       "      <td>284.630000</td>\n",
       "      <td>282.080000</td>\n",
       "      <td>289.480000</td>\n",
       "      <td>281.800000</td>\n",
       "      <td>291.870000</td>\n",
       "      <td>291.530000</td>\n",
       "      <td>293.410000</td>\n",
       "      <td>296.600000</td>\n",
       "      <td>285.120000</td>\n",
       "      <td>...</td>\n",
       "      <td>288.220000</td>\n",
       "      <td>285.830000</td>\n",
       "      <td>287.170000</td>\n",
       "      <td>307.590000</td>\n",
       "      <td>305.470000</td>\n",
       "      <td>310.580000</td>\n",
       "      <td>304.40</td>\n",
       "      <td>304.40</td>\n",
       "      <td>303.50</td>\n",
       "      <td>2</td>\n",
       "    </tr>\n",
       "    <tr>\n",
       "      <th>2</th>\n",
       "      <td>2012-10-01 14:00:00</td>\n",
       "      <td>284.629041</td>\n",
       "      <td>282.083252</td>\n",
       "      <td>289.474993</td>\n",
       "      <td>281.797217</td>\n",
       "      <td>291.868186</td>\n",
       "      <td>291.533501</td>\n",
       "      <td>293.403141</td>\n",
       "      <td>296.608509</td>\n",
       "      <td>285.154558</td>\n",
       "      <td>...</td>\n",
       "      <td>288.247676</td>\n",
       "      <td>285.834650</td>\n",
       "      <td>287.186092</td>\n",
       "      <td>307.590000</td>\n",
       "      <td>304.310000</td>\n",
       "      <td>310.495769</td>\n",
       "      <td>304.40</td>\n",
       "      <td>304.40</td>\n",
       "      <td>303.50</td>\n",
       "      <td>3</td>\n",
       "    </tr>\n",
       "    <tr>\n",
       "      <th>3</th>\n",
       "      <td>2012-10-01 15:00:00</td>\n",
       "      <td>284.626998</td>\n",
       "      <td>282.091866</td>\n",
       "      <td>289.460618</td>\n",
       "      <td>281.789833</td>\n",
       "      <td>291.862844</td>\n",
       "      <td>291.543355</td>\n",
       "      <td>293.392177</td>\n",
       "      <td>296.631487</td>\n",
       "      <td>285.233952</td>\n",
       "      <td>...</td>\n",
       "      <td>288.326940</td>\n",
       "      <td>285.847790</td>\n",
       "      <td>287.231672</td>\n",
       "      <td>307.391513</td>\n",
       "      <td>304.281841</td>\n",
       "      <td>310.411538</td>\n",
       "      <td>304.40</td>\n",
       "      <td>304.40</td>\n",
       "      <td>303.50</td>\n",
       "      <td>4</td>\n",
       "    </tr>\n",
       "    <tr>\n",
       "      <th>4</th>\n",
       "      <td>2012-10-01 16:00:00</td>\n",
       "      <td>284.624955</td>\n",
       "      <td>282.100481</td>\n",
       "      <td>289.446243</td>\n",
       "      <td>281.782449</td>\n",
       "      <td>291.857503</td>\n",
       "      <td>291.553209</td>\n",
       "      <td>293.381213</td>\n",
       "      <td>296.654466</td>\n",
       "      <td>285.313345</td>\n",
       "      <td>...</td>\n",
       "      <td>288.406203</td>\n",
       "      <td>285.860929</td>\n",
       "      <td>287.277251</td>\n",
       "      <td>307.145200</td>\n",
       "      <td>304.238015</td>\n",
       "      <td>310.327308</td>\n",
       "      <td>304.40</td>\n",
       "      <td>304.40</td>\n",
       "      <td>303.50</td>\n",
       "      <td>5</td>\n",
       "    </tr>\n",
       "    <tr>\n",
       "      <th>...</th>\n",
       "      <td>...</td>\n",
       "      <td>...</td>\n",
       "      <td>...</td>\n",
       "      <td>...</td>\n",
       "      <td>...</td>\n",
       "      <td>...</td>\n",
       "      <td>...</td>\n",
       "      <td>...</td>\n",
       "      <td>...</td>\n",
       "      <td>...</td>\n",
       "      <td>...</td>\n",
       "      <td>...</td>\n",
       "      <td>...</td>\n",
       "      <td>...</td>\n",
       "      <td>...</td>\n",
       "      <td>...</td>\n",
       "      <td>...</td>\n",
       "      <td>...</td>\n",
       "      <td>...</td>\n",
       "      <td>...</td>\n",
       "      <td>...</td>\n",
       "    </tr>\n",
       "    <tr>\n",
       "      <th>495</th>\n",
       "      <td>2012-10-22 03:00:00</td>\n",
       "      <td>279.150000</td>\n",
       "      <td>279.460000</td>\n",
       "      <td>286.420000</td>\n",
       "      <td>279.420000</td>\n",
       "      <td>291.990000</td>\n",
       "      <td>290.780000</td>\n",
       "      <td>297.270000</td>\n",
       "      <td>298.340000</td>\n",
       "      <td>290.260000</td>\n",
       "      <td>...</td>\n",
       "      <td>284.080000</td>\n",
       "      <td>282.710000</td>\n",
       "      <td>287.690000</td>\n",
       "      <td>293.710000</td>\n",
       "      <td>293.440000</td>\n",
       "      <td>298.830000</td>\n",
       "      <td>297.40</td>\n",
       "      <td>297.40</td>\n",
       "      <td>295.20</td>\n",
       "      <td>496</td>\n",
       "    </tr>\n",
       "    <tr>\n",
       "      <th>496</th>\n",
       "      <td>2012-10-22 04:00:00</td>\n",
       "      <td>278.660000</td>\n",
       "      <td>279.110000</td>\n",
       "      <td>286.070000</td>\n",
       "      <td>278.980000</td>\n",
       "      <td>291.970000</td>\n",
       "      <td>290.470000</td>\n",
       "      <td>296.640000</td>\n",
       "      <td>296.990000</td>\n",
       "      <td>288.640000</td>\n",
       "      <td>...</td>\n",
       "      <td>284.450000</td>\n",
       "      <td>282.180000</td>\n",
       "      <td>286.350000</td>\n",
       "      <td>293.710000</td>\n",
       "      <td>293.150000</td>\n",
       "      <td>300.150000</td>\n",
       "      <td>297.40</td>\n",
       "      <td>297.40</td>\n",
       "      <td>295.20</td>\n",
       "      <td>497</td>\n",
       "    </tr>\n",
       "    <tr>\n",
       "      <th>497</th>\n",
       "      <td>2012-10-22 05:00:00</td>\n",
       "      <td>278.640000</td>\n",
       "      <td>279.290000</td>\n",
       "      <td>285.670000</td>\n",
       "      <td>279.120000</td>\n",
       "      <td>292.000000</td>\n",
       "      <td>290.600000</td>\n",
       "      <td>295.450000</td>\n",
       "      <td>296.420000</td>\n",
       "      <td>287.510000</td>\n",
       "      <td>...</td>\n",
       "      <td>284.810000</td>\n",
       "      <td>281.200000</td>\n",
       "      <td>285.050000</td>\n",
       "      <td>296.480000</td>\n",
       "      <td>296.150000</td>\n",
       "      <td>298.150000</td>\n",
       "      <td>297.40</td>\n",
       "      <td>297.40</td>\n",
       "      <td>295.20</td>\n",
       "      <td>498</td>\n",
       "    </tr>\n",
       "    <tr>\n",
       "      <th>498</th>\n",
       "      <td>2012-10-22 06:00:00</td>\n",
       "      <td>278.580000</td>\n",
       "      <td>279.530000</td>\n",
       "      <td>285.560000</td>\n",
       "      <td>278.850000</td>\n",
       "      <td>291.840000</td>\n",
       "      <td>290.610000</td>\n",
       "      <td>294.440000</td>\n",
       "      <td>296.460000</td>\n",
       "      <td>287.480000</td>\n",
       "      <td>...</td>\n",
       "      <td>284.090000</td>\n",
       "      <td>281.550000</td>\n",
       "      <td>283.650000</td>\n",
       "      <td>298.150000</td>\n",
       "      <td>297.470000</td>\n",
       "      <td>298.680000</td>\n",
       "      <td>300.08</td>\n",
       "      <td>300.08</td>\n",
       "      <td>300.24</td>\n",
       "      <td>499</td>\n",
       "    </tr>\n",
       "    <tr>\n",
       "      <th>499</th>\n",
       "      <td>2012-10-22 07:00:00</td>\n",
       "      <td>278.420000</td>\n",
       "      <td>279.470000</td>\n",
       "      <td>285.290000</td>\n",
       "      <td>278.910000</td>\n",
       "      <td>291.690000</td>\n",
       "      <td>290.570000</td>\n",
       "      <td>294.040000</td>\n",
       "      <td>296.480000</td>\n",
       "      <td>287.060000</td>\n",
       "      <td>...</td>\n",
       "      <td>283.960000</td>\n",
       "      <td>282.190000</td>\n",
       "      <td>282.620000</td>\n",
       "      <td>299.260000</td>\n",
       "      <td>299.150000</td>\n",
       "      <td>297.450000</td>\n",
       "      <td>300.08</td>\n",
       "      <td>300.08</td>\n",
       "      <td>300.24</td>\n",
       "      <td>500</td>\n",
       "    </tr>\n",
       "  </tbody>\n",
       "</table>\n",
       "<p>500 rows × 38 columns</p>\n",
       "</div>"
      ],
      "text/plain": [
       "                datetime   Vancouver    Portland  San Francisco     Seattle  \\\n",
       "0    2012-10-01 12:00:00    0.000000    0.000000       0.000000    0.000000   \n",
       "1    2012-10-01 13:00:00  284.630000  282.080000     289.480000  281.800000   \n",
       "2    2012-10-01 14:00:00  284.629041  282.083252     289.474993  281.797217   \n",
       "3    2012-10-01 15:00:00  284.626998  282.091866     289.460618  281.789833   \n",
       "4    2012-10-01 16:00:00  284.624955  282.100481     289.446243  281.782449   \n",
       "..                   ...         ...         ...            ...         ...   \n",
       "495  2012-10-22 03:00:00  279.150000  279.460000     286.420000  279.420000   \n",
       "496  2012-10-22 04:00:00  278.660000  279.110000     286.070000  278.980000   \n",
       "497  2012-10-22 05:00:00  278.640000  279.290000     285.670000  279.120000   \n",
       "498  2012-10-22 06:00:00  278.580000  279.530000     285.560000  278.850000   \n",
       "499  2012-10-22 07:00:00  278.420000  279.470000     285.290000  278.910000   \n",
       "\n",
       "     Los Angeles   San Diego   Las Vegas     Phoenix  Albuquerque  ...  \\\n",
       "0       0.000000    0.000000    0.000000    0.000000     0.000000  ...   \n",
       "1     291.870000  291.530000  293.410000  296.600000   285.120000  ...   \n",
       "2     291.868186  291.533501  293.403141  296.608509   285.154558  ...   \n",
       "3     291.862844  291.543355  293.392177  296.631487   285.233952  ...   \n",
       "4     291.857503  291.553209  293.381213  296.654466   285.313345  ...   \n",
       "..           ...         ...         ...         ...          ...  ...   \n",
       "495   291.990000  290.780000  297.270000  298.340000   290.260000  ...   \n",
       "496   291.970000  290.470000  296.640000  296.990000   288.640000  ...   \n",
       "497   292.000000  290.600000  295.450000  296.420000   287.510000  ...   \n",
       "498   291.840000  290.610000  294.440000  296.460000   287.480000  ...   \n",
       "499   291.690000  290.570000  294.040000  296.480000   287.060000  ...   \n",
       "\n",
       "       New York    Montreal      Boston   Beersheba  Tel Aviv District  \\\n",
       "0      0.000000    0.000000    0.000000    0.000000           0.000000   \n",
       "1    288.220000  285.830000  287.170000  307.590000         305.470000   \n",
       "2    288.247676  285.834650  287.186092  307.590000         304.310000   \n",
       "3    288.326940  285.847790  287.231672  307.391513         304.281841   \n",
       "4    288.406203  285.860929  287.277251  307.145200         304.238015   \n",
       "..          ...         ...         ...         ...                ...   \n",
       "495  284.080000  282.710000  287.690000  293.710000         293.440000   \n",
       "496  284.450000  282.180000  286.350000  293.710000         293.150000   \n",
       "497  284.810000  281.200000  285.050000  296.480000         296.150000   \n",
       "498  284.090000  281.550000  283.650000  298.150000         297.470000   \n",
       "499  283.960000  282.190000  282.620000  299.260000         299.150000   \n",
       "\n",
       "          Eilat   Haifa  Nahariyya  Jerusalem   id  \n",
       "0    309.100000    0.00       0.00       0.00    1  \n",
       "1    310.580000  304.40     304.40     303.50    2  \n",
       "2    310.495769  304.40     304.40     303.50    3  \n",
       "3    310.411538  304.40     304.40     303.50    4  \n",
       "4    310.327308  304.40     304.40     303.50    5  \n",
       "..          ...     ...        ...        ...  ...  \n",
       "495  298.830000  297.40     297.40     295.20  496  \n",
       "496  300.150000  297.40     297.40     295.20  497  \n",
       "497  298.150000  297.40     297.40     295.20  498  \n",
       "498  298.680000  300.08     300.08     300.24  499  \n",
       "499  297.450000  300.08     300.08     300.24  500  \n",
       "\n",
       "[500 rows x 38 columns]"
      ]
     },
     "execution_count": 15,
     "metadata": {},
     "output_type": "execute_result"
    }
   ],
   "source": [
    "dataframes['temperature_WH'].head(500)"
   ]
  },
  {
   "cell_type": "code",
   "execution_count": 20,
   "id": "3db7f61f",
   "metadata": {},
   "outputs": [],
   "source": [
    "# Change the type of data int the columns datetime \n",
    "dataframes['temperature_WH']['datetime'] = pd.to_datetime(dataframes['temperature_WH']['datetime'])"
   ]
  },
  {
   "cell_type": "code",
   "execution_count": 21,
   "id": "076dedab",
   "metadata": {},
   "outputs": [
    {
     "data": {
      "text/plain": [
       "array([2012, 2013, 2014, 2015, 2016, 2017])"
      ]
     },
     "execution_count": 21,
     "metadata": {},
     "output_type": "execute_result"
    }
   ],
   "source": [
    "dataframes['temperature_WH']['datetime'].dt.year.unique()"
   ]
  },
  {
   "cell_type": "markdown",
   "id": "fa61252b",
   "metadata": {},
   "source": [
    "## Temperature"
   ]
  },
  {
   "cell_type": "markdown",
   "id": "d9b00f4a",
   "metadata": {},
   "source": [
    "### Los Angeles"
   ]
  },
  {
   "cell_type": "code",
   "execution_count": null,
   "id": "5760ebc0",
   "metadata": {},
   "outputs": [],
   "source": [
    "def graphic(df,year,city):\n",
    "    \"\"\"This function creates a graphic with the temperature data for a specific year\"\"\"\n",
    "\n",
    "    #Filter the dataframe to get only the data of 2023\n",
    "    temperature_df= df[df['datetime'].dt.year == year].copy()\n",
    "\n",
    "    #Get the average of the temperature by month\n",
    "    temperature_df['month'] = temperature_df['datetime'].dt.month\n",
    "    \n",
    "    #Change the name of the month\n",
    "    temperature_df['Month'] = temperature_df['month'].replace({1: 'January', 2: 'February', 3: 'March', 4: 'April', 5: 'May', 6: 'June', 7: 'July', 8: 'August', 9: 'September', 10: 'October', 11: 'November', 12: 'December'})\n",
    "\n",
    "\n",
    "    #Get the average of the temperature by month\n",
    "    temperature_df = temperature_df.groupby(['Month']).mean().reset_index()\n",
    "\n",
    "    # Show int ascending order\n",
    "    temperature_df = temperature_df.sort_values(by='month', ascending=True)\n",
    "\n",
    "    # Graphic of the temperature where the x axis are the months of a year and the y axis are the temperature in Farenheit degrees\n",
    "    fig = go.Bar( x = temperature_df['Month'], y = temperature_df[city], name = f'Temperature {year}', \n",
    "            marker= dict(color=temperature_df[city], colorscale = [[0,'rgb(255,200,200)'],[1,'rgb(255,0,0)']],# scale from red to white\n",
    "                            colorbar=dict(title='Temp °F')))\n",
    "   \n",
    "\n",
    "    return fig\n",
    "\n",
    "\n",
    "    "
   ]
  },
  {
   "cell_type": "code",
   "execution_count": 61,
   "id": "d4a3ebe9",
   "metadata": {},
   "outputs": [],
   "source": [
    "#Filter the dataframe to get only the data of 2023\n",
    "temperature_2012= dataframes['temperature_WH'][dataframes['temperature_WH']['datetime'].dt.year == 2012].copy()"
   ]
  },
  {
   "cell_type": "code",
   "execution_count": 62,
   "id": "5a9c8778",
   "metadata": {},
   "outputs": [],
   "source": [
    "#Get the average of the temperature by month\n",
    "temperature_2012['month'] = temperature_2012['datetime'].dt.month"
   ]
  },
  {
   "cell_type": "code",
   "execution_count": 63,
   "id": "5e30f032",
   "metadata": {},
   "outputs": [],
   "source": [
    "#Change the name of the month\n",
    "temperature_2012['Month'] = temperature_2012['month'].replace({1: 'January', 2: 'February', 3: 'March', 4: 'April', 5: 'May', 6: 'June', 7: 'July', 8: 'August', 9: 'September', 10: 'October', 11: 'November', 12: 'December'})\n"
   ]
  },
  {
   "cell_type": "code",
   "execution_count": 64,
   "id": "c664c208",
   "metadata": {},
   "outputs": [],
   "source": [
    "#Get the average of the temperature by month\n",
    "temperature_2012 = temperature_2012.groupby(['Month']).mean().reset_index()"
   ]
  },
  {
   "cell_type": "code",
   "execution_count": 66,
   "id": "00bd2c1f",
   "metadata": {},
   "outputs": [],
   "source": [
    "# Show int ascending order\n",
    "temperature_2012 = temperature_2012.sort_values(by='month', ascending=True)"
   ]
  },
  {
   "cell_type": "code",
   "execution_count": 31,
   "id": "35fd6555",
   "metadata": {},
   "outputs": [],
   "source": [
    "temperature_2012 = temperature_2012.groupby(['month']).mean().reset_index()"
   ]
  },
  {
   "cell_type": "code",
   "execution_count": 65,
   "id": "8c221237",
   "metadata": {},
   "outputs": [
    {
     "data": {
      "text/html": [
       "<div>\n",
       "<style scoped>\n",
       "    .dataframe tbody tr th:only-of-type {\n",
       "        vertical-align: middle;\n",
       "    }\n",
       "\n",
       "    .dataframe tbody tr th {\n",
       "        vertical-align: top;\n",
       "    }\n",
       "\n",
       "    .dataframe thead th {\n",
       "        text-align: right;\n",
       "    }\n",
       "</style>\n",
       "<table border=\"1\" class=\"dataframe\">\n",
       "  <thead>\n",
       "    <tr style=\"text-align: right;\">\n",
       "      <th></th>\n",
       "      <th>Month</th>\n",
       "      <th>datetime</th>\n",
       "      <th>Vancouver</th>\n",
       "      <th>Portland</th>\n",
       "      <th>San Francisco</th>\n",
       "      <th>Seattle</th>\n",
       "      <th>Los Angeles</th>\n",
       "      <th>San Diego</th>\n",
       "      <th>Las Vegas</th>\n",
       "      <th>Phoenix</th>\n",
       "      <th>...</th>\n",
       "      <th>Montreal</th>\n",
       "      <th>Boston</th>\n",
       "      <th>Beersheba</th>\n",
       "      <th>Tel Aviv District</th>\n",
       "      <th>Eilat</th>\n",
       "      <th>Haifa</th>\n",
       "      <th>Nahariyya</th>\n",
       "      <th>Jerusalem</th>\n",
       "      <th>id</th>\n",
       "      <th>month</th>\n",
       "    </tr>\n",
       "  </thead>\n",
       "  <tbody>\n",
       "    <tr>\n",
       "      <th>0</th>\n",
       "      <td>December</td>\n",
       "      <td>2012-12-16 11:30:00</td>\n",
       "      <td>277.587581</td>\n",
       "      <td>278.555784</td>\n",
       "      <td>283.403330</td>\n",
       "      <td>278.315333</td>\n",
       "      <td>286.239209</td>\n",
       "      <td>286.137814</td>\n",
       "      <td>282.164206</td>\n",
       "      <td>285.024105</td>\n",
       "      <td>...</td>\n",
       "      <td>269.378626</td>\n",
       "      <td>275.696347</td>\n",
       "      <td>290.105003</td>\n",
       "      <td>289.103921</td>\n",
       "      <td>288.888400</td>\n",
       "      <td>290.444084</td>\n",
       "      <td>290.443663</td>\n",
       "      <td>287.932162</td>\n",
       "      <td>1824.5</td>\n",
       "      <td>12.0</td>\n",
       "    </tr>\n",
       "    <tr>\n",
       "      <th>1</th>\n",
       "      <td>November</td>\n",
       "      <td>2012-11-15 23:30:00</td>\n",
       "      <td>280.393083</td>\n",
       "      <td>281.761056</td>\n",
       "      <td>286.592826</td>\n",
       "      <td>281.012396</td>\n",
       "      <td>289.276347</td>\n",
       "      <td>289.010924</td>\n",
       "      <td>287.529389</td>\n",
       "      <td>291.783389</td>\n",
       "      <td>...</td>\n",
       "      <td>274.771326</td>\n",
       "      <td>278.143479</td>\n",
       "      <td>294.437090</td>\n",
       "      <td>293.712375</td>\n",
       "      <td>294.403604</td>\n",
       "      <td>294.944431</td>\n",
       "      <td>294.945764</td>\n",
       "      <td>293.177819</td>\n",
       "      <td>1092.5</td>\n",
       "      <td>11.0</td>\n",
       "    </tr>\n",
       "    <tr>\n",
       "      <th>2</th>\n",
       "      <td>October</td>\n",
       "      <td>2012-10-16 17:30:00</td>\n",
       "      <td>282.906773</td>\n",
       "      <td>284.821025</td>\n",
       "      <td>289.221588</td>\n",
       "      <td>283.941537</td>\n",
       "      <td>292.854532</td>\n",
       "      <td>292.420169</td>\n",
       "      <td>293.630074</td>\n",
       "      <td>297.128656</td>\n",
       "      <td>...</td>\n",
       "      <td>283.166507</td>\n",
       "      <td>285.588096</td>\n",
       "      <td>298.987389</td>\n",
       "      <td>297.838706</td>\n",
       "      <td>300.476790</td>\n",
       "      <td>298.306865</td>\n",
       "      <td>298.304945</td>\n",
       "      <td>297.374146</td>\n",
       "      <td>366.5</td>\n",
       "      <td>10.0</td>\n",
       "    </tr>\n",
       "  </tbody>\n",
       "</table>\n",
       "<p>3 rows × 40 columns</p>\n",
       "</div>"
      ],
      "text/plain": [
       "      Month            datetime   Vancouver    Portland  San Francisco  \\\n",
       "0  December 2012-12-16 11:30:00  277.587581  278.555784     283.403330   \n",
       "1  November 2012-11-15 23:30:00  280.393083  281.761056     286.592826   \n",
       "2   October 2012-10-16 17:30:00  282.906773  284.821025     289.221588   \n",
       "\n",
       "      Seattle  Los Angeles   San Diego   Las Vegas     Phoenix  ...  \\\n",
       "0  278.315333   286.239209  286.137814  282.164206  285.024105  ...   \n",
       "1  281.012396   289.276347  289.010924  287.529389  291.783389  ...   \n",
       "2  283.941537   292.854532  292.420169  293.630074  297.128656  ...   \n",
       "\n",
       "     Montreal      Boston   Beersheba  Tel Aviv District       Eilat  \\\n",
       "0  269.378626  275.696347  290.105003         289.103921  288.888400   \n",
       "1  274.771326  278.143479  294.437090         293.712375  294.403604   \n",
       "2  283.166507  285.588096  298.987389         297.838706  300.476790   \n",
       "\n",
       "        Haifa   Nahariyya   Jerusalem      id  month  \n",
       "0  290.444084  290.443663  287.932162  1824.5   12.0  \n",
       "1  294.944431  294.945764  293.177819  1092.5   11.0  \n",
       "2  298.306865  298.304945  297.374146   366.5   10.0  \n",
       "\n",
       "[3 rows x 40 columns]"
      ]
     },
     "execution_count": 65,
     "metadata": {},
     "output_type": "execute_result"
    }
   ],
   "source": [
    "temperature_2012"
   ]
  },
  {
   "cell_type": "code",
   "execution_count": 82,
   "id": "b1a91d55",
   "metadata": {},
   "outputs": [
    {
     "data": {
      "application/vnd.plotly.v1+json": {
       "config": {
        "plotlyServerURL": "https://plot.ly"
       },
       "data": [
        {
         "marker": {
          "color": [
           292.85453185659287,
           289.2763472222222,
           286.2392090053764
          ],
          "colorbar": {
           "title": {
            "text": "Temp °F"
           }
          },
          "colorscale": [
           [
            0,
            "rgb(255,200,200)"
           ],
           [
            1,
            "rgb(255,0,0)"
           ]
          ]
         },
         "name": "Temperature 2012",
         "type": "bar",
         "x": [
          "October",
          "November",
          "December"
         ],
         "xaxis": "x",
         "y": [
          292.85453185659287,
          289.2763472222222,
          286.2392090053764
         ],
         "yaxis": "y"
        },
        {
         "marker": {
          "color": [
           284.7429417114691,
           285.73433345734225,
           287.4409551075255,
           289.63407708333335,
           292.151684811828,
           293.0525613888889,
           295.23906227598525,
           294.66161491935486,
           295.55344814815,
           289.76814321236697,
           288.2522521990736,
           286.56330913978496
          ],
          "colorbar": {
           "title": {
            "text": "Temp °F"
           }
          },
          "colorscale": [
           [
            0,
            "rgb(255,200,200)"
           ],
           [
            1,
            "rgb(255,0,0)"
           ]
          ]
         },
         "name": "Temperature 2013",
         "type": "bar",
         "x": [
          "January",
          "February",
          "March",
          "April",
          "May",
          "June",
          "July",
          "August",
          "September",
          "October",
          "November",
          "December"
         ],
         "xaxis": "x2",
         "y": [
          284.7429417114691,
          285.73433345734225,
          287.4409551075255,
          289.63407708333335,
          292.151684811828,
          293.0525613888889,
          295.23906227598525,
          294.66161491935486,
          295.55344814815,
          289.76814321236697,
          288.2522521990736,
          286.56330913978496
         ],
         "yaxis": "y2"
        },
        {
         "marker": {
          "color": [
           289.39289917451345,
           287.4708630952381,
           288.98359677419353,
           289.92790386985274,
           293.1887574890659,
           292.9569579925972,
           296.2033634318548,
           295.29446126168546,
           294.76955069444443,
           290.1189590053763,
           284.47183958333335,
           281.67519018817205
          ],
          "colorbar": {
           "title": {
            "text": "Temp °F"
           }
          },
          "colorscale": [
           [
            0,
            "rgb(255,200,200)"
           ],
           [
            1,
            "rgb(255,0,0)"
           ]
          ]
         },
         "name": "Temperature 2014",
         "type": "bar",
         "x": [
          "January",
          "February",
          "March",
          "April",
          "May",
          "June",
          "July",
          "August",
          "September",
          "October",
          "November",
          "December"
         ],
         "xaxis": "x3",
         "y": [
          289.39289917451345,
          287.4708630952381,
          288.98359677419353,
          289.92790386985274,
          293.1887574890659,
          292.9569579925972,
          296.2033634318548,
          295.29446126168546,
          294.76955069444443,
          290.1189590053763,
          284.47183958333335,
          281.67519018817205
         ],
         "yaxis": "y3"
        },
        {
         "marker": {
          "color": [
           282.6769233870968,
           284.73821205357143,
           287.61492271505375,
           286.6782836805556,
           287.6919220430108,
           294.1453204632514,
           296.0448070113683,
           297.99175904125406,
           297.7311733896861,
           294.93291961386694,
           288.4036256674806,
           285.0686800883898
          ],
          "colorbar": {
           "title": {
            "text": "Temp °F"
           }
          },
          "colorscale": [
           [
            0,
            "rgb(255,200,200)"
           ],
           [
            1,
            "rgb(255,0,0)"
           ]
          ]
         },
         "name": "Temperature 2015",
         "type": "bar",
         "x": [
          "January",
          "February",
          "March",
          "April",
          "May",
          "June",
          "July",
          "August",
          "September",
          "October",
          "November",
          "December"
         ],
         "xaxis": "x4",
         "y": [
          282.6769233870968,
          284.73821205357143,
          287.61492271505375,
          286.6782836805556,
          287.6919220430108,
          294.1453204632514,
          296.0448070113683,
          297.99175904125406,
          297.7311733896861,
          294.93291961386694,
          288.4036256674806,
          285.0686800883898
         ],
         "yaxis": "y4"
        },
        {
         "marker": {
          "color": [
           285.6567911208078,
           289.7489074394454,
           288.83154955494086,
           290.87312905757915,
           290.52185621400406,
           295.6842390162417,
           297.68951546656456,
           297.13091479825806,
           295.52465192350417,
           289.288491618707,
           290.34467187601945,
           286.5373627249072
          ],
          "colorbar": {
           "title": {
            "text": "Temp °F"
           }
          },
          "colorscale": [
           [
            0,
            "rgb(255,200,200)"
           ],
           [
            1,
            "rgb(255,0,0)"
           ]
          ]
         },
         "name": "Temperature 2016",
         "type": "bar",
         "x": [
          "January",
          "February",
          "March",
          "April",
          "May",
          "June",
          "July",
          "August",
          "September",
          "October",
          "November",
          "December"
         ],
         "xaxis": "x5",
         "y": [
          285.6567911208078,
          289.7489074394454,
          288.83154955494086,
          290.87312905757915,
          290.52185621400406,
          295.6842390162417,
          297.68951546656456,
          297.13091479825806,
          295.52465192350417,
          289.288491618707,
          290.34467187601945,
          286.5373627249072
         ],
         "yaxis": "y5"
        },
        {
         "marker": {
          "color": [
           285.3328373655914,
           285.8559356971101,
           289.539454378086,
           291.0225280459569,
           291.4191935483871,
           294.26897568322363,
           296.95090965605783,
           296.7957876344086,
           295.8908217400403,
           294.82787903225807,
           291.1692656872857
          ],
          "colorbar": {
           "title": {
            "text": "Temp °F"
           }
          },
          "colorscale": [
           [
            0,
            "rgb(255,200,200)"
           ],
           [
            1,
            "rgb(255,0,0)"
           ]
          ]
         },
         "name": "Temperature 2017",
         "type": "bar",
         "x": [
          "January",
          "February",
          "March",
          "April",
          "May",
          "June",
          "July",
          "August",
          "September",
          "October",
          "November"
         ],
         "xaxis": "x6",
         "y": [
          285.3328373655914,
          285.8559356971101,
          289.539454378086,
          291.0225280459569,
          291.4191935483871,
          294.26897568322363,
          296.95090965605783,
          296.7957876344086,
          295.8908217400403,
          294.82787903225807,
          291.1692656872857
         ],
         "yaxis": "y6"
        }
       ],
       "layout": {
        "annotations": [
         {
          "font": {
           "size": 16
          },
          "showarrow": false,
          "text": "2012",
          "x": 0.225,
          "xanchor": "center",
          "xref": "paper",
          "y": 1,
          "yanchor": "bottom",
          "yref": "paper"
         },
         {
          "font": {
           "size": 16
          },
          "showarrow": false,
          "text": "2013",
          "x": 0.775,
          "xanchor": "center",
          "xref": "paper",
          "y": 1,
          "yanchor": "bottom",
          "yref": "paper"
         },
         {
          "font": {
           "size": 16
          },
          "showarrow": false,
          "text": "2014",
          "x": 0.225,
          "xanchor": "center",
          "xref": "paper",
          "y": 0.6111111111111112,
          "yanchor": "bottom",
          "yref": "paper"
         },
         {
          "font": {
           "size": 16
          },
          "showarrow": false,
          "text": "2015",
          "x": 0.775,
          "xanchor": "center",
          "xref": "paper",
          "y": 0.6111111111111112,
          "yanchor": "bottom",
          "yref": "paper"
         },
         {
          "font": {
           "size": 16
          },
          "showarrow": false,
          "text": "2016",
          "x": 0.225,
          "xanchor": "center",
          "xref": "paper",
          "y": 0.22222222222222224,
          "yanchor": "bottom",
          "yref": "paper"
         },
         {
          "font": {
           "size": 16
          },
          "showarrow": false,
          "text": "2017",
          "x": 0.775,
          "xanchor": "center",
          "xref": "paper",
          "y": 0.22222222222222224,
          "yanchor": "bottom",
          "yref": "paper"
         }
        ],
        "height": 800,
        "showlegend": false,
        "template": {
         "data": {
          "bar": [
           {
            "error_x": {
             "color": "#2a3f5f"
            },
            "error_y": {
             "color": "#2a3f5f"
            },
            "marker": {
             "line": {
              "color": "#E5ECF6",
              "width": 0.5
             },
             "pattern": {
              "fillmode": "overlay",
              "size": 10,
              "solidity": 0.2
             }
            },
            "type": "bar"
           }
          ],
          "barpolar": [
           {
            "marker": {
             "line": {
              "color": "#E5ECF6",
              "width": 0.5
             },
             "pattern": {
              "fillmode": "overlay",
              "size": 10,
              "solidity": 0.2
             }
            },
            "type": "barpolar"
           }
          ],
          "carpet": [
           {
            "aaxis": {
             "endlinecolor": "#2a3f5f",
             "gridcolor": "white",
             "linecolor": "white",
             "minorgridcolor": "white",
             "startlinecolor": "#2a3f5f"
            },
            "baxis": {
             "endlinecolor": "#2a3f5f",
             "gridcolor": "white",
             "linecolor": "white",
             "minorgridcolor": "white",
             "startlinecolor": "#2a3f5f"
            },
            "type": "carpet"
           }
          ],
          "choropleth": [
           {
            "colorbar": {
             "outlinewidth": 0,
             "ticks": ""
            },
            "type": "choropleth"
           }
          ],
          "contour": [
           {
            "colorbar": {
             "outlinewidth": 0,
             "ticks": ""
            },
            "colorscale": [
             [
              0,
              "#0d0887"
             ],
             [
              0.1111111111111111,
              "#46039f"
             ],
             [
              0.2222222222222222,
              "#7201a8"
             ],
             [
              0.3333333333333333,
              "#9c179e"
             ],
             [
              0.4444444444444444,
              "#bd3786"
             ],
             [
              0.5555555555555556,
              "#d8576b"
             ],
             [
              0.6666666666666666,
              "#ed7953"
             ],
             [
              0.7777777777777778,
              "#fb9f3a"
             ],
             [
              0.8888888888888888,
              "#fdca26"
             ],
             [
              1,
              "#f0f921"
             ]
            ],
            "type": "contour"
           }
          ],
          "contourcarpet": [
           {
            "colorbar": {
             "outlinewidth": 0,
             "ticks": ""
            },
            "type": "contourcarpet"
           }
          ],
          "heatmap": [
           {
            "colorbar": {
             "outlinewidth": 0,
             "ticks": ""
            },
            "colorscale": [
             [
              0,
              "#0d0887"
             ],
             [
              0.1111111111111111,
              "#46039f"
             ],
             [
              0.2222222222222222,
              "#7201a8"
             ],
             [
              0.3333333333333333,
              "#9c179e"
             ],
             [
              0.4444444444444444,
              "#bd3786"
             ],
             [
              0.5555555555555556,
              "#d8576b"
             ],
             [
              0.6666666666666666,
              "#ed7953"
             ],
             [
              0.7777777777777778,
              "#fb9f3a"
             ],
             [
              0.8888888888888888,
              "#fdca26"
             ],
             [
              1,
              "#f0f921"
             ]
            ],
            "type": "heatmap"
           }
          ],
          "heatmapgl": [
           {
            "colorbar": {
             "outlinewidth": 0,
             "ticks": ""
            },
            "colorscale": [
             [
              0,
              "#0d0887"
             ],
             [
              0.1111111111111111,
              "#46039f"
             ],
             [
              0.2222222222222222,
              "#7201a8"
             ],
             [
              0.3333333333333333,
              "#9c179e"
             ],
             [
              0.4444444444444444,
              "#bd3786"
             ],
             [
              0.5555555555555556,
              "#d8576b"
             ],
             [
              0.6666666666666666,
              "#ed7953"
             ],
             [
              0.7777777777777778,
              "#fb9f3a"
             ],
             [
              0.8888888888888888,
              "#fdca26"
             ],
             [
              1,
              "#f0f921"
             ]
            ],
            "type": "heatmapgl"
           }
          ],
          "histogram": [
           {
            "marker": {
             "pattern": {
              "fillmode": "overlay",
              "size": 10,
              "solidity": 0.2
             }
            },
            "type": "histogram"
           }
          ],
          "histogram2d": [
           {
            "colorbar": {
             "outlinewidth": 0,
             "ticks": ""
            },
            "colorscale": [
             [
              0,
              "#0d0887"
             ],
             [
              0.1111111111111111,
              "#46039f"
             ],
             [
              0.2222222222222222,
              "#7201a8"
             ],
             [
              0.3333333333333333,
              "#9c179e"
             ],
             [
              0.4444444444444444,
              "#bd3786"
             ],
             [
              0.5555555555555556,
              "#d8576b"
             ],
             [
              0.6666666666666666,
              "#ed7953"
             ],
             [
              0.7777777777777778,
              "#fb9f3a"
             ],
             [
              0.8888888888888888,
              "#fdca26"
             ],
             [
              1,
              "#f0f921"
             ]
            ],
            "type": "histogram2d"
           }
          ],
          "histogram2dcontour": [
           {
            "colorbar": {
             "outlinewidth": 0,
             "ticks": ""
            },
            "colorscale": [
             [
              0,
              "#0d0887"
             ],
             [
              0.1111111111111111,
              "#46039f"
             ],
             [
              0.2222222222222222,
              "#7201a8"
             ],
             [
              0.3333333333333333,
              "#9c179e"
             ],
             [
              0.4444444444444444,
              "#bd3786"
             ],
             [
              0.5555555555555556,
              "#d8576b"
             ],
             [
              0.6666666666666666,
              "#ed7953"
             ],
             [
              0.7777777777777778,
              "#fb9f3a"
             ],
             [
              0.8888888888888888,
              "#fdca26"
             ],
             [
              1,
              "#f0f921"
             ]
            ],
            "type": "histogram2dcontour"
           }
          ],
          "mesh3d": [
           {
            "colorbar": {
             "outlinewidth": 0,
             "ticks": ""
            },
            "type": "mesh3d"
           }
          ],
          "parcoords": [
           {
            "line": {
             "colorbar": {
              "outlinewidth": 0,
              "ticks": ""
             }
            },
            "type": "parcoords"
           }
          ],
          "pie": [
           {
            "automargin": true,
            "type": "pie"
           }
          ],
          "scatter": [
           {
            "fillpattern": {
             "fillmode": "overlay",
             "size": 10,
             "solidity": 0.2
            },
            "type": "scatter"
           }
          ],
          "scatter3d": [
           {
            "line": {
             "colorbar": {
              "outlinewidth": 0,
              "ticks": ""
             }
            },
            "marker": {
             "colorbar": {
              "outlinewidth": 0,
              "ticks": ""
             }
            },
            "type": "scatter3d"
           }
          ],
          "scattercarpet": [
           {
            "marker": {
             "colorbar": {
              "outlinewidth": 0,
              "ticks": ""
             }
            },
            "type": "scattercarpet"
           }
          ],
          "scattergeo": [
           {
            "marker": {
             "colorbar": {
              "outlinewidth": 0,
              "ticks": ""
             }
            },
            "type": "scattergeo"
           }
          ],
          "scattergl": [
           {
            "marker": {
             "colorbar": {
              "outlinewidth": 0,
              "ticks": ""
             }
            },
            "type": "scattergl"
           }
          ],
          "scattermapbox": [
           {
            "marker": {
             "colorbar": {
              "outlinewidth": 0,
              "ticks": ""
             }
            },
            "type": "scattermapbox"
           }
          ],
          "scatterpolar": [
           {
            "marker": {
             "colorbar": {
              "outlinewidth": 0,
              "ticks": ""
             }
            },
            "type": "scatterpolar"
           }
          ],
          "scatterpolargl": [
           {
            "marker": {
             "colorbar": {
              "outlinewidth": 0,
              "ticks": ""
             }
            },
            "type": "scatterpolargl"
           }
          ],
          "scatterternary": [
           {
            "marker": {
             "colorbar": {
              "outlinewidth": 0,
              "ticks": ""
             }
            },
            "type": "scatterternary"
           }
          ],
          "surface": [
           {
            "colorbar": {
             "outlinewidth": 0,
             "ticks": ""
            },
            "colorscale": [
             [
              0,
              "#0d0887"
             ],
             [
              0.1111111111111111,
              "#46039f"
             ],
             [
              0.2222222222222222,
              "#7201a8"
             ],
             [
              0.3333333333333333,
              "#9c179e"
             ],
             [
              0.4444444444444444,
              "#bd3786"
             ],
             [
              0.5555555555555556,
              "#d8576b"
             ],
             [
              0.6666666666666666,
              "#ed7953"
             ],
             [
              0.7777777777777778,
              "#fb9f3a"
             ],
             [
              0.8888888888888888,
              "#fdca26"
             ],
             [
              1,
              "#f0f921"
             ]
            ],
            "type": "surface"
           }
          ],
          "table": [
           {
            "cells": {
             "fill": {
              "color": "#EBF0F8"
             },
             "line": {
              "color": "white"
             }
            },
            "header": {
             "fill": {
              "color": "#C8D4E3"
             },
             "line": {
              "color": "white"
             }
            },
            "type": "table"
           }
          ]
         },
         "layout": {
          "annotationdefaults": {
           "arrowcolor": "#2a3f5f",
           "arrowhead": 0,
           "arrowwidth": 1
          },
          "autotypenumbers": "strict",
          "coloraxis": {
           "colorbar": {
            "outlinewidth": 0,
            "ticks": ""
           }
          },
          "colorscale": {
           "diverging": [
            [
             0,
             "#8e0152"
            ],
            [
             0.1,
             "#c51b7d"
            ],
            [
             0.2,
             "#de77ae"
            ],
            [
             0.3,
             "#f1b6da"
            ],
            [
             0.4,
             "#fde0ef"
            ],
            [
             0.5,
             "#f7f7f7"
            ],
            [
             0.6,
             "#e6f5d0"
            ],
            [
             0.7,
             "#b8e186"
            ],
            [
             0.8,
             "#7fbc41"
            ],
            [
             0.9,
             "#4d9221"
            ],
            [
             1,
             "#276419"
            ]
           ],
           "sequential": [
            [
             0,
             "#0d0887"
            ],
            [
             0.1111111111111111,
             "#46039f"
            ],
            [
             0.2222222222222222,
             "#7201a8"
            ],
            [
             0.3333333333333333,
             "#9c179e"
            ],
            [
             0.4444444444444444,
             "#bd3786"
            ],
            [
             0.5555555555555556,
             "#d8576b"
            ],
            [
             0.6666666666666666,
             "#ed7953"
            ],
            [
             0.7777777777777778,
             "#fb9f3a"
            ],
            [
             0.8888888888888888,
             "#fdca26"
            ],
            [
             1,
             "#f0f921"
            ]
           ],
           "sequentialminus": [
            [
             0,
             "#0d0887"
            ],
            [
             0.1111111111111111,
             "#46039f"
            ],
            [
             0.2222222222222222,
             "#7201a8"
            ],
            [
             0.3333333333333333,
             "#9c179e"
            ],
            [
             0.4444444444444444,
             "#bd3786"
            ],
            [
             0.5555555555555556,
             "#d8576b"
            ],
            [
             0.6666666666666666,
             "#ed7953"
            ],
            [
             0.7777777777777778,
             "#fb9f3a"
            ],
            [
             0.8888888888888888,
             "#fdca26"
            ],
            [
             1,
             "#f0f921"
            ]
           ]
          },
          "colorway": [
           "#636efa",
           "#EF553B",
           "#00cc96",
           "#ab63fa",
           "#FFA15A",
           "#19d3f3",
           "#FF6692",
           "#B6E880",
           "#FF97FF",
           "#FECB52"
          ],
          "font": {
           "color": "#2a3f5f"
          },
          "geo": {
           "bgcolor": "white",
           "lakecolor": "white",
           "landcolor": "#E5ECF6",
           "showlakes": true,
           "showland": true,
           "subunitcolor": "white"
          },
          "hoverlabel": {
           "align": "left"
          },
          "hovermode": "closest",
          "mapbox": {
           "style": "light"
          },
          "paper_bgcolor": "white",
          "plot_bgcolor": "#E5ECF6",
          "polar": {
           "angularaxis": {
            "gridcolor": "white",
            "linecolor": "white",
            "ticks": ""
           },
           "bgcolor": "#E5ECF6",
           "radialaxis": {
            "gridcolor": "white",
            "linecolor": "white",
            "ticks": ""
           }
          },
          "scene": {
           "xaxis": {
            "backgroundcolor": "#E5ECF6",
            "gridcolor": "white",
            "gridwidth": 2,
            "linecolor": "white",
            "showbackground": true,
            "ticks": "",
            "zerolinecolor": "white"
           },
           "yaxis": {
            "backgroundcolor": "#E5ECF6",
            "gridcolor": "white",
            "gridwidth": 2,
            "linecolor": "white",
            "showbackground": true,
            "ticks": "",
            "zerolinecolor": "white"
           },
           "zaxis": {
            "backgroundcolor": "#E5ECF6",
            "gridcolor": "white",
            "gridwidth": 2,
            "linecolor": "white",
            "showbackground": true,
            "ticks": "",
            "zerolinecolor": "white"
           }
          },
          "shapedefaults": {
           "line": {
            "color": "#2a3f5f"
           }
          },
          "ternary": {
           "aaxis": {
            "gridcolor": "white",
            "linecolor": "white",
            "ticks": ""
           },
           "baxis": {
            "gridcolor": "white",
            "linecolor": "white",
            "ticks": ""
           },
           "bgcolor": "#E5ECF6",
           "caxis": {
            "gridcolor": "white",
            "linecolor": "white",
            "ticks": ""
           }
          },
          "title": {
           "x": 0.05
          },
          "xaxis": {
           "automargin": true,
           "gridcolor": "white",
           "linecolor": "white",
           "ticks": "",
           "title": {
            "standoff": 15
           },
           "zerolinecolor": "white",
           "zerolinewidth": 2
          },
          "yaxis": {
           "automargin": true,
           "gridcolor": "white",
           "linecolor": "white",
           "ticks": "",
           "title": {
            "standoff": 15
           },
           "zerolinecolor": "white",
           "zerolinewidth": 2
          }
         }
        },
        "title": {
         "text": "Temperatures in Los Angeles from 2012 to 2017"
        },
        "width": 1000,
        "xaxis": {
         "anchor": "y",
         "domain": [
          0,
          0.45
         ]
        },
        "xaxis2": {
         "anchor": "y2",
         "domain": [
          0.55,
          1
         ]
        },
        "xaxis3": {
         "anchor": "y3",
         "domain": [
          0,
          0.45
         ]
        },
        "xaxis4": {
         "anchor": "y4",
         "domain": [
          0.55,
          1
         ]
        },
        "xaxis5": {
         "anchor": "y5",
         "domain": [
          0,
          0.45
         ]
        },
        "xaxis6": {
         "anchor": "y6",
         "domain": [
          0.55,
          1
         ]
        },
        "yaxis": {
         "anchor": "x",
         "domain": [
          0.7777777777777778,
          1
         ]
        },
        "yaxis2": {
         "anchor": "x2",
         "domain": [
          0.7777777777777778,
          1
         ]
        },
        "yaxis3": {
         "anchor": "x3",
         "domain": [
          0.3888888888888889,
          0.6111111111111112
         ]
        },
        "yaxis4": {
         "anchor": "x4",
         "domain": [
          0.3888888888888889,
          0.6111111111111112
         ]
        },
        "yaxis5": {
         "anchor": "x5",
         "domain": [
          0,
          0.22222222222222224
         ]
        },
        "yaxis6": {
         "anchor": "x6",
         "domain": [
          0,
          0.22222222222222224
         ]
        }
       }
      }
     },
     "metadata": {},
     "output_type": "display_data"
    }
   ],
   "source": [
    "#creacion de un subplot de 2 filas 3 columnas para mostras las fraficas de todos los años\n",
    "fig = make_subplots(rows=3, cols=2, subplot_titles=('2012', '2013', '2014', '2015', '2016', '2017'))\n",
    "fig.add_trace(graphic(dataframes['temperature_WH'],2012,'Los Angeles'), row=1, col=1)\n",
    "fig.add_trace(graphic(dataframes['temperature_WH'],2013,'Los Angeles'), row=1, col=2)\n",
    "fig.add_trace(graphic(dataframes['temperature_WH'],2014,'Los Angeles'), row=2, col=1)\n",
    "fig.add_trace(graphic(dataframes['temperature_WH'],2015,'Los Angeles'), row=2, col=2)\n",
    "fig.add_trace(graphic(dataframes['temperature_WH'],2016,'Los Angeles'), row=3, col=1)\n",
    "fig.add_trace(graphic(dataframes['temperature_WH'],2017,'Los Angeles'), row=3, col=2)\n",
    "\n",
    "fig.update_layout(\n",
    "    height=800, width=1000,\n",
    "    title_text=\"Temperatures in Los Angeles from 2012 to 2017\",\n",
    "    showlegend=False\n",
    ")\n",
    "\n",
    "fig.show()\n"
   ]
  },
  {
   "cell_type": "code",
   "execution_count": 83,
   "id": "d32c6e95",
   "metadata": {},
   "outputs": [],
   "source": [
    "def linear_graphic(df,city):\n",
    "    \"\"\"This function creat a linear grophic where show the temperature avarage for each year in a specific city\"\"\"\n",
    "    #Get the average of the temperature by year\n",
    "    df['year'] = df['datetime'].dt.year\n",
    "\n",
    "    #Get the average of the temperature by year\n",
    "    df = df.groupby(['year']).mean().reset_index()\n",
    "\n",
    "    # Graphic of the temperature where the x axis are the months of a year and the y axis are the temperature in Farenheit degrees\n",
    "    fig = go.Figure(data=go.Scatter(x=df['year'], y=df[city], mode='lines+markers', name=f'Temperature {city}'))\n",
    "    \n",
    "    return fig\n"
   ]
  },
  {
   "cell_type": "code",
   "execution_count": 85,
   "id": "6aef78b7",
   "metadata": {},
   "outputs": [
    {
     "data": {
      "application/vnd.plotly.v1+json": {
       "config": {
        "plotlyServerURL": "https://plot.ly"
       },
       "data": [
        {
         "mode": "lines+markers",
         "name": "Temperature Los Angeles",
         "type": "scatter",
         "x": [
          2012,
          2013,
          2014,
          2015,
          2016,
          2017
         ],
         "y": [
          289.4400996443652,
          290.25460424086765,
          290.39327610395674,
          290.34000543679576,
          291.4777868808419,
          292.15111084008964
         ]
        }
       ],
       "layout": {
        "showlegend": true,
        "template": {
         "data": {
          "bar": [
           {
            "error_x": {
             "color": "#2a3f5f"
            },
            "error_y": {
             "color": "#2a3f5f"
            },
            "marker": {
             "line": {
              "color": "#E5ECF6",
              "width": 0.5
             },
             "pattern": {
              "fillmode": "overlay",
              "size": 10,
              "solidity": 0.2
             }
            },
            "type": "bar"
           }
          ],
          "barpolar": [
           {
            "marker": {
             "line": {
              "color": "#E5ECF6",
              "width": 0.5
             },
             "pattern": {
              "fillmode": "overlay",
              "size": 10,
              "solidity": 0.2
             }
            },
            "type": "barpolar"
           }
          ],
          "carpet": [
           {
            "aaxis": {
             "endlinecolor": "#2a3f5f",
             "gridcolor": "white",
             "linecolor": "white",
             "minorgridcolor": "white",
             "startlinecolor": "#2a3f5f"
            },
            "baxis": {
             "endlinecolor": "#2a3f5f",
             "gridcolor": "white",
             "linecolor": "white",
             "minorgridcolor": "white",
             "startlinecolor": "#2a3f5f"
            },
            "type": "carpet"
           }
          ],
          "choropleth": [
           {
            "colorbar": {
             "outlinewidth": 0,
             "ticks": ""
            },
            "type": "choropleth"
           }
          ],
          "contour": [
           {
            "colorbar": {
             "outlinewidth": 0,
             "ticks": ""
            },
            "colorscale": [
             [
              0,
              "#0d0887"
             ],
             [
              0.1111111111111111,
              "#46039f"
             ],
             [
              0.2222222222222222,
              "#7201a8"
             ],
             [
              0.3333333333333333,
              "#9c179e"
             ],
             [
              0.4444444444444444,
              "#bd3786"
             ],
             [
              0.5555555555555556,
              "#d8576b"
             ],
             [
              0.6666666666666666,
              "#ed7953"
             ],
             [
              0.7777777777777778,
              "#fb9f3a"
             ],
             [
              0.8888888888888888,
              "#fdca26"
             ],
             [
              1,
              "#f0f921"
             ]
            ],
            "type": "contour"
           }
          ],
          "contourcarpet": [
           {
            "colorbar": {
             "outlinewidth": 0,
             "ticks": ""
            },
            "type": "contourcarpet"
           }
          ],
          "heatmap": [
           {
            "colorbar": {
             "outlinewidth": 0,
             "ticks": ""
            },
            "colorscale": [
             [
              0,
              "#0d0887"
             ],
             [
              0.1111111111111111,
              "#46039f"
             ],
             [
              0.2222222222222222,
              "#7201a8"
             ],
             [
              0.3333333333333333,
              "#9c179e"
             ],
             [
              0.4444444444444444,
              "#bd3786"
             ],
             [
              0.5555555555555556,
              "#d8576b"
             ],
             [
              0.6666666666666666,
              "#ed7953"
             ],
             [
              0.7777777777777778,
              "#fb9f3a"
             ],
             [
              0.8888888888888888,
              "#fdca26"
             ],
             [
              1,
              "#f0f921"
             ]
            ],
            "type": "heatmap"
           }
          ],
          "heatmapgl": [
           {
            "colorbar": {
             "outlinewidth": 0,
             "ticks": ""
            },
            "colorscale": [
             [
              0,
              "#0d0887"
             ],
             [
              0.1111111111111111,
              "#46039f"
             ],
             [
              0.2222222222222222,
              "#7201a8"
             ],
             [
              0.3333333333333333,
              "#9c179e"
             ],
             [
              0.4444444444444444,
              "#bd3786"
             ],
             [
              0.5555555555555556,
              "#d8576b"
             ],
             [
              0.6666666666666666,
              "#ed7953"
             ],
             [
              0.7777777777777778,
              "#fb9f3a"
             ],
             [
              0.8888888888888888,
              "#fdca26"
             ],
             [
              1,
              "#f0f921"
             ]
            ],
            "type": "heatmapgl"
           }
          ],
          "histogram": [
           {
            "marker": {
             "pattern": {
              "fillmode": "overlay",
              "size": 10,
              "solidity": 0.2
             }
            },
            "type": "histogram"
           }
          ],
          "histogram2d": [
           {
            "colorbar": {
             "outlinewidth": 0,
             "ticks": ""
            },
            "colorscale": [
             [
              0,
              "#0d0887"
             ],
             [
              0.1111111111111111,
              "#46039f"
             ],
             [
              0.2222222222222222,
              "#7201a8"
             ],
             [
              0.3333333333333333,
              "#9c179e"
             ],
             [
              0.4444444444444444,
              "#bd3786"
             ],
             [
              0.5555555555555556,
              "#d8576b"
             ],
             [
              0.6666666666666666,
              "#ed7953"
             ],
             [
              0.7777777777777778,
              "#fb9f3a"
             ],
             [
              0.8888888888888888,
              "#fdca26"
             ],
             [
              1,
              "#f0f921"
             ]
            ],
            "type": "histogram2d"
           }
          ],
          "histogram2dcontour": [
           {
            "colorbar": {
             "outlinewidth": 0,
             "ticks": ""
            },
            "colorscale": [
             [
              0,
              "#0d0887"
             ],
             [
              0.1111111111111111,
              "#46039f"
             ],
             [
              0.2222222222222222,
              "#7201a8"
             ],
             [
              0.3333333333333333,
              "#9c179e"
             ],
             [
              0.4444444444444444,
              "#bd3786"
             ],
             [
              0.5555555555555556,
              "#d8576b"
             ],
             [
              0.6666666666666666,
              "#ed7953"
             ],
             [
              0.7777777777777778,
              "#fb9f3a"
             ],
             [
              0.8888888888888888,
              "#fdca26"
             ],
             [
              1,
              "#f0f921"
             ]
            ],
            "type": "histogram2dcontour"
           }
          ],
          "mesh3d": [
           {
            "colorbar": {
             "outlinewidth": 0,
             "ticks": ""
            },
            "type": "mesh3d"
           }
          ],
          "parcoords": [
           {
            "line": {
             "colorbar": {
              "outlinewidth": 0,
              "ticks": ""
             }
            },
            "type": "parcoords"
           }
          ],
          "pie": [
           {
            "automargin": true,
            "type": "pie"
           }
          ],
          "scatter": [
           {
            "fillpattern": {
             "fillmode": "overlay",
             "size": 10,
             "solidity": 0.2
            },
            "type": "scatter"
           }
          ],
          "scatter3d": [
           {
            "line": {
             "colorbar": {
              "outlinewidth": 0,
              "ticks": ""
             }
            },
            "marker": {
             "colorbar": {
              "outlinewidth": 0,
              "ticks": ""
             }
            },
            "type": "scatter3d"
           }
          ],
          "scattercarpet": [
           {
            "marker": {
             "colorbar": {
              "outlinewidth": 0,
              "ticks": ""
             }
            },
            "type": "scattercarpet"
           }
          ],
          "scattergeo": [
           {
            "marker": {
             "colorbar": {
              "outlinewidth": 0,
              "ticks": ""
             }
            },
            "type": "scattergeo"
           }
          ],
          "scattergl": [
           {
            "marker": {
             "colorbar": {
              "outlinewidth": 0,
              "ticks": ""
             }
            },
            "type": "scattergl"
           }
          ],
          "scattermapbox": [
           {
            "marker": {
             "colorbar": {
              "outlinewidth": 0,
              "ticks": ""
             }
            },
            "type": "scattermapbox"
           }
          ],
          "scatterpolar": [
           {
            "marker": {
             "colorbar": {
              "outlinewidth": 0,
              "ticks": ""
             }
            },
            "type": "scatterpolar"
           }
          ],
          "scatterpolargl": [
           {
            "marker": {
             "colorbar": {
              "outlinewidth": 0,
              "ticks": ""
             }
            },
            "type": "scatterpolargl"
           }
          ],
          "scatterternary": [
           {
            "marker": {
             "colorbar": {
              "outlinewidth": 0,
              "ticks": ""
             }
            },
            "type": "scatterternary"
           }
          ],
          "surface": [
           {
            "colorbar": {
             "outlinewidth": 0,
             "ticks": ""
            },
            "colorscale": [
             [
              0,
              "#0d0887"
             ],
             [
              0.1111111111111111,
              "#46039f"
             ],
             [
              0.2222222222222222,
              "#7201a8"
             ],
             [
              0.3333333333333333,
              "#9c179e"
             ],
             [
              0.4444444444444444,
              "#bd3786"
             ],
             [
              0.5555555555555556,
              "#d8576b"
             ],
             [
              0.6666666666666666,
              "#ed7953"
             ],
             [
              0.7777777777777778,
              "#fb9f3a"
             ],
             [
              0.8888888888888888,
              "#fdca26"
             ],
             [
              1,
              "#f0f921"
             ]
            ],
            "type": "surface"
           }
          ],
          "table": [
           {
            "cells": {
             "fill": {
              "color": "#EBF0F8"
             },
             "line": {
              "color": "white"
             }
            },
            "header": {
             "fill": {
              "color": "#C8D4E3"
             },
             "line": {
              "color": "white"
             }
            },
            "type": "table"
           }
          ]
         },
         "layout": {
          "annotationdefaults": {
           "arrowcolor": "#2a3f5f",
           "arrowhead": 0,
           "arrowwidth": 1
          },
          "autotypenumbers": "strict",
          "coloraxis": {
           "colorbar": {
            "outlinewidth": 0,
            "ticks": ""
           }
          },
          "colorscale": {
           "diverging": [
            [
             0,
             "#8e0152"
            ],
            [
             0.1,
             "#c51b7d"
            ],
            [
             0.2,
             "#de77ae"
            ],
            [
             0.3,
             "#f1b6da"
            ],
            [
             0.4,
             "#fde0ef"
            ],
            [
             0.5,
             "#f7f7f7"
            ],
            [
             0.6,
             "#e6f5d0"
            ],
            [
             0.7,
             "#b8e186"
            ],
            [
             0.8,
             "#7fbc41"
            ],
            [
             0.9,
             "#4d9221"
            ],
            [
             1,
             "#276419"
            ]
           ],
           "sequential": [
            [
             0,
             "#0d0887"
            ],
            [
             0.1111111111111111,
             "#46039f"
            ],
            [
             0.2222222222222222,
             "#7201a8"
            ],
            [
             0.3333333333333333,
             "#9c179e"
            ],
            [
             0.4444444444444444,
             "#bd3786"
            ],
            [
             0.5555555555555556,
             "#d8576b"
            ],
            [
             0.6666666666666666,
             "#ed7953"
            ],
            [
             0.7777777777777778,
             "#fb9f3a"
            ],
            [
             0.8888888888888888,
             "#fdca26"
            ],
            [
             1,
             "#f0f921"
            ]
           ],
           "sequentialminus": [
            [
             0,
             "#0d0887"
            ],
            [
             0.1111111111111111,
             "#46039f"
            ],
            [
             0.2222222222222222,
             "#7201a8"
            ],
            [
             0.3333333333333333,
             "#9c179e"
            ],
            [
             0.4444444444444444,
             "#bd3786"
            ],
            [
             0.5555555555555556,
             "#d8576b"
            ],
            [
             0.6666666666666666,
             "#ed7953"
            ],
            [
             0.7777777777777778,
             "#fb9f3a"
            ],
            [
             0.8888888888888888,
             "#fdca26"
            ],
            [
             1,
             "#f0f921"
            ]
           ]
          },
          "colorway": [
           "#636efa",
           "#EF553B",
           "#00cc96",
           "#ab63fa",
           "#FFA15A",
           "#19d3f3",
           "#FF6692",
           "#B6E880",
           "#FF97FF",
           "#FECB52"
          ],
          "font": {
           "color": "#2a3f5f"
          },
          "geo": {
           "bgcolor": "white",
           "lakecolor": "white",
           "landcolor": "#E5ECF6",
           "showlakes": true,
           "showland": true,
           "subunitcolor": "white"
          },
          "hoverlabel": {
           "align": "left"
          },
          "hovermode": "closest",
          "mapbox": {
           "style": "light"
          },
          "paper_bgcolor": "white",
          "plot_bgcolor": "#E5ECF6",
          "polar": {
           "angularaxis": {
            "gridcolor": "white",
            "linecolor": "white",
            "ticks": ""
           },
           "bgcolor": "#E5ECF6",
           "radialaxis": {
            "gridcolor": "white",
            "linecolor": "white",
            "ticks": ""
           }
          },
          "scene": {
           "xaxis": {
            "backgroundcolor": "#E5ECF6",
            "gridcolor": "white",
            "gridwidth": 2,
            "linecolor": "white",
            "showbackground": true,
            "ticks": "",
            "zerolinecolor": "white"
           },
           "yaxis": {
            "backgroundcolor": "#E5ECF6",
            "gridcolor": "white",
            "gridwidth": 2,
            "linecolor": "white",
            "showbackground": true,
            "ticks": "",
            "zerolinecolor": "white"
           },
           "zaxis": {
            "backgroundcolor": "#E5ECF6",
            "gridcolor": "white",
            "gridwidth": 2,
            "linecolor": "white",
            "showbackground": true,
            "ticks": "",
            "zerolinecolor": "white"
           }
          },
          "shapedefaults": {
           "line": {
            "color": "#2a3f5f"
           }
          },
          "ternary": {
           "aaxis": {
            "gridcolor": "white",
            "linecolor": "white",
            "ticks": ""
           },
           "baxis": {
            "gridcolor": "white",
            "linecolor": "white",
            "ticks": ""
           },
           "bgcolor": "#E5ECF6",
           "caxis": {
            "gridcolor": "white",
            "linecolor": "white",
            "ticks": ""
           }
          },
          "title": {
           "x": 0.05
          },
          "xaxis": {
           "automargin": true,
           "gridcolor": "white",
           "linecolor": "white",
           "ticks": "",
           "title": {
            "standoff": 15
           },
           "zerolinecolor": "white",
           "zerolinewidth": 2
          },
          "yaxis": {
           "automargin": true,
           "gridcolor": "white",
           "linecolor": "white",
           "ticks": "",
           "title": {
            "standoff": 15
           },
           "zerolinecolor": "white",
           "zerolinewidth": 2
          }
         }
        },
        "title": {
         "text": "Temperature in Los Angeles from 2012 to 2017"
        },
        "xaxis": {
         "title": {
          "text": "Year"
         }
        },
        "yaxis": {
         "title": {
          "text": "Temperature °F"
         }
        }
       }
      }
     },
     "metadata": {},
     "output_type": "display_data"
    }
   ],
   "source": [
    "#Get the rsult of the function linear_graphic\n",
    "fig = linear_graphic(dataframes['temperature_WH'],'Los Angeles')\n",
    "fig.update_layout(\n",
    "    title=\"Temperature in Los Angeles from 2012 to 2017\",\n",
    "    xaxis_title=\"Year\",\n",
    "    yaxis_title=\"Temperature °F\",\n",
    "    showlegend=True\n",
    ")\n",
    "fig.show()"
   ]
  },
  {
   "cell_type": "code",
   "execution_count": null,
   "id": "b8833e65",
   "metadata": {},
   "outputs": [],
   "source": []
  },
  {
   "cell_type": "code",
   "execution_count": null,
   "id": "e7dc0749",
   "metadata": {},
   "outputs": [],
   "source": []
  },
  {
   "cell_type": "markdown",
   "id": "65078ee5",
   "metadata": {},
   "source": []
  }
 ],
 "metadata": {
  "kernelspec": {
   "display_name": "Python 3",
   "language": "python",
   "name": "python3"
  },
  "language_info": {
   "codemirror_mode": {
    "name": "ipython",
    "version": 3
   },
   "file_extension": ".py",
   "mimetype": "text/x-python",
   "name": "python",
   "nbconvert_exporter": "python",
   "pygments_lexer": "ipython3",
   "version": "3.10.0"
  }
 },
 "nbformat": 4,
 "nbformat_minor": 5
}
